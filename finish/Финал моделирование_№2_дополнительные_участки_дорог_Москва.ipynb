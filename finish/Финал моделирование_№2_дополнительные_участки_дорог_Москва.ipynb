{
 "cells": [
  {
   "cell_type": "markdown",
   "metadata": {
    "id": "PkhfAdwUcG4j"
   },
   "source": [
    "# На участках автомобильных дорог, оборудованных и знаком ограничения скорости, и знаком о работе камер фото- и видеофиксации, регистрируется меньшее число ДТП, чем на участках автомобильных дорог, оборудованных только знаками ограничения скорости"
   ]
  },
  {
   "cell_type": "markdown",
   "metadata": {},
   "source": [
    "# Загрузим библиотеки и данные"
   ]
  },
  {
   "cell_type": "code",
   "execution_count": 1,
   "metadata": {
    "colab": {
     "base_uri": "https://localhost:8080/"
    },
    "id": "K5RvkeuVaC_P",
    "outputId": "5ca6e6c2-4bf0-46e1-88cf-b8bb7887e6a8"
   },
   "outputs": [
    {
     "name": "stdout",
     "output_type": "stream",
     "text": [
      "Requirement already satisfied: catboost in /home/slava/anaconda3/lib/python3.10/site-packages (1.1.1)\n",
      "Requirement already satisfied: six in /home/slava/anaconda3/lib/python3.10/site-packages (from catboost) (1.16.0)\n",
      "Requirement already satisfied: pandas>=0.24.0 in /home/slava/anaconda3/lib/python3.10/site-packages (from catboost) (1.5.3)\n",
      "Requirement already satisfied: plotly in /home/slava/anaconda3/lib/python3.10/site-packages (from catboost) (5.9.0)\n",
      "Requirement already satisfied: matplotlib in /home/slava/anaconda3/lib/python3.10/site-packages (from catboost) (3.7.0)\n",
      "Requirement already satisfied: numpy>=1.16.0 in /home/slava/anaconda3/lib/python3.10/site-packages (from catboost) (1.23.5)\n",
      "Requirement already satisfied: scipy in /home/slava/anaconda3/lib/python3.10/site-packages (from catboost) (1.10.0)\n",
      "Requirement already satisfied: graphviz in /home/slava/anaconda3/lib/python3.10/site-packages (from catboost) (0.20.1)\n",
      "Requirement already satisfied: python-dateutil>=2.8.1 in /home/slava/anaconda3/lib/python3.10/site-packages (from pandas>=0.24.0->catboost) (2.8.2)\n",
      "Requirement already satisfied: pytz>=2020.1 in /home/slava/anaconda3/lib/python3.10/site-packages (from pandas>=0.24.0->catboost) (2022.7)\n",
      "Requirement already satisfied: fonttools>=4.22.0 in /home/slava/anaconda3/lib/python3.10/site-packages (from matplotlib->catboost) (4.25.0)\n",
      "Requirement already satisfied: packaging>=20.0 in /home/slava/anaconda3/lib/python3.10/site-packages (from matplotlib->catboost) (22.0)\n",
      "Requirement already satisfied: pyparsing>=2.3.1 in /home/slava/anaconda3/lib/python3.10/site-packages (from matplotlib->catboost) (3.0.9)\n",
      "Requirement already satisfied: kiwisolver>=1.0.1 in /home/slava/anaconda3/lib/python3.10/site-packages (from matplotlib->catboost) (1.4.4)\n",
      "Requirement already satisfied: pillow>=6.2.0 in /home/slava/anaconda3/lib/python3.10/site-packages (from matplotlib->catboost) (9.4.0)\n",
      "Requirement already satisfied: contourpy>=1.0.1 in /home/slava/anaconda3/lib/python3.10/site-packages (from matplotlib->catboost) (1.0.5)\n",
      "Requirement already satisfied: cycler>=0.10 in /home/slava/anaconda3/lib/python3.10/site-packages (from matplotlib->catboost) (0.11.0)\n",
      "Requirement already satisfied: tenacity>=6.2.0 in /home/slava/anaconda3/lib/python3.10/site-packages (from plotly->catboost) (8.0.1)\n",
      "Requirement already satisfied: geopandas in /home/slava/anaconda3/lib/python3.10/site-packages (0.12.2)\n",
      "Requirement already satisfied: pyproj>=2.6.1.post1 in /home/slava/anaconda3/lib/python3.10/site-packages (from geopandas) (3.5.0)\n",
      "Requirement already satisfied: packaging in /home/slava/anaconda3/lib/python3.10/site-packages (from geopandas) (22.0)\n",
      "Requirement already satisfied: pandas>=1.0.0 in /home/slava/anaconda3/lib/python3.10/site-packages (from geopandas) (1.5.3)\n",
      "Requirement already satisfied: shapely>=1.7 in /home/slava/anaconda3/lib/python3.10/site-packages (from geopandas) (2.0.1)\n",
      "Requirement already satisfied: fiona>=1.8 in /home/slava/anaconda3/lib/python3.10/site-packages (from geopandas) (1.9.3)\n",
      "Requirement already satisfied: click~=8.0 in /home/slava/anaconda3/lib/python3.10/site-packages (from fiona>=1.8->geopandas) (8.0.4)\n",
      "Requirement already satisfied: munch>=2.3.2 in /home/slava/anaconda3/lib/python3.10/site-packages (from fiona>=1.8->geopandas) (2.5.0)\n",
      "Requirement already satisfied: certifi in /home/slava/anaconda3/lib/python3.10/site-packages (from fiona>=1.8->geopandas) (2022.12.7)\n",
      "Requirement already satisfied: attrs>=19.2.0 in /home/slava/anaconda3/lib/python3.10/site-packages (from fiona>=1.8->geopandas) (22.1.0)\n",
      "Requirement already satisfied: cligj>=0.5 in /home/slava/anaconda3/lib/python3.10/site-packages (from fiona>=1.8->geopandas) (0.7.2)\n",
      "Requirement already satisfied: click-plugins>=1.0 in /home/slava/anaconda3/lib/python3.10/site-packages (from fiona>=1.8->geopandas) (1.1.1)\n",
      "Requirement already satisfied: python-dateutil>=2.8.1 in /home/slava/anaconda3/lib/python3.10/site-packages (from pandas>=1.0.0->geopandas) (2.8.2)\n",
      "Requirement already satisfied: pytz>=2020.1 in /home/slava/anaconda3/lib/python3.10/site-packages (from pandas>=1.0.0->geopandas) (2022.7)\n",
      "Requirement already satisfied: numpy>=1.21.0 in /home/slava/anaconda3/lib/python3.10/site-packages (from pandas>=1.0.0->geopandas) (1.23.5)\n",
      "Requirement already satisfied: six in /home/slava/anaconda3/lib/python3.10/site-packages (from munch>=2.3.2->fiona>=1.8->geopandas) (1.16.0)\n",
      "Requirement already satisfied: dtreeviz in /home/slava/anaconda3/lib/python3.10/site-packages (2.2.1)\n",
      "Requirement already satisfied: numpy in /home/slava/anaconda3/lib/python3.10/site-packages (from dtreeviz) (1.23.5)\n",
      "Requirement already satisfied: pytest in /home/slava/anaconda3/lib/python3.10/site-packages (from dtreeviz) (7.1.2)\n",
      "Requirement already satisfied: scikit-learn in /home/slava/anaconda3/lib/python3.10/site-packages (from dtreeviz) (1.2.1)\n",
      "Requirement already satisfied: matplotlib in /home/slava/anaconda3/lib/python3.10/site-packages (from dtreeviz) (3.7.0)\n",
      "Requirement already satisfied: colour in /home/slava/anaconda3/lib/python3.10/site-packages (from dtreeviz) (0.1.5)\n",
      "Requirement already satisfied: pandas in /home/slava/anaconda3/lib/python3.10/site-packages (from dtreeviz) (1.5.3)\n",
      "Requirement already satisfied: graphviz>=0.9 in /home/slava/anaconda3/lib/python3.10/site-packages (from dtreeviz) (0.20.1)\n",
      "Requirement already satisfied: contourpy>=1.0.1 in /home/slava/anaconda3/lib/python3.10/site-packages (from matplotlib->dtreeviz) (1.0.5)\n",
      "Requirement already satisfied: pillow>=6.2.0 in /home/slava/anaconda3/lib/python3.10/site-packages (from matplotlib->dtreeviz) (9.4.0)\n",
      "Requirement already satisfied: kiwisolver>=1.0.1 in /home/slava/anaconda3/lib/python3.10/site-packages (from matplotlib->dtreeviz) (1.4.4)\n",
      "Requirement already satisfied: pyparsing>=2.3.1 in /home/slava/anaconda3/lib/python3.10/site-packages (from matplotlib->dtreeviz) (3.0.9)\n",
      "Requirement already satisfied: cycler>=0.10 in /home/slava/anaconda3/lib/python3.10/site-packages (from matplotlib->dtreeviz) (0.11.0)\n",
      "Requirement already satisfied: python-dateutil>=2.7 in /home/slava/anaconda3/lib/python3.10/site-packages (from matplotlib->dtreeviz) (2.8.2)\n",
      "Requirement already satisfied: fonttools>=4.22.0 in /home/slava/anaconda3/lib/python3.10/site-packages (from matplotlib->dtreeviz) (4.25.0)\n",
      "Requirement already satisfied: packaging>=20.0 in /home/slava/anaconda3/lib/python3.10/site-packages (from matplotlib->dtreeviz) (22.0)\n",
      "Requirement already satisfied: pytz>=2020.1 in /home/slava/anaconda3/lib/python3.10/site-packages (from pandas->dtreeviz) (2022.7)\n",
      "Requirement already satisfied: attrs>=19.2.0 in /home/slava/anaconda3/lib/python3.10/site-packages (from pytest->dtreeviz) (22.1.0)\n",
      "Requirement already satisfied: iniconfig in /home/slava/anaconda3/lib/python3.10/site-packages (from pytest->dtreeviz) (1.1.1)\n",
      "Requirement already satisfied: pluggy<2.0,>=0.12 in /home/slava/anaconda3/lib/python3.10/site-packages (from pytest->dtreeviz) (1.0.0)\n",
      "Requirement already satisfied: py>=1.8.2 in /home/slava/anaconda3/lib/python3.10/site-packages (from pytest->dtreeviz) (1.11.0)\n",
      "Requirement already satisfied: tomli>=1.0.0 in /home/slava/anaconda3/lib/python3.10/site-packages (from pytest->dtreeviz) (2.0.1)\n",
      "Requirement already satisfied: joblib>=1.1.1 in /home/slava/anaconda3/lib/python3.10/site-packages (from scikit-learn->dtreeviz) (1.1.1)\n",
      "Requirement already satisfied: threadpoolctl>=2.0.0 in /home/slava/anaconda3/lib/python3.10/site-packages (from scikit-learn->dtreeviz) (2.2.0)\n",
      "Requirement already satisfied: scipy>=1.3.2 in /home/slava/anaconda3/lib/python3.10/site-packages (from scikit-learn->dtreeviz) (1.10.0)\n",
      "Requirement already satisfied: six>=1.5 in /home/slava/anaconda3/lib/python3.10/site-packages (from python-dateutil>=2.7->matplotlib->dtreeviz) (1.16.0)\n"
     ]
    }
   ],
   "source": [
    "import pandas as pd\n",
    "from sklearn.tree import DecisionTreeClassifier\n",
    "from sklearn.metrics import accuracy_score, precision_score, recall_score, f1_score, roc_auc_score\n",
    "!pip install catboost\n",
    "from catboost import CatBoostClassifier\n",
    "!pip install geopandas\n",
    "from sklearn.cluster import KMeans\n",
    "from sklearn.metrics import pairwise_distances_argmin_min\n",
    "import numpy as np\n",
    "import folium\n",
    "import geopandas as gpd\n",
    "import pandas as pd\n",
    "import json\n",
    "import pandas as pd\n",
    "import urllib.request\n",
    "from math import radians, sin\n",
    "from sklearn.tree import export_graphviz\n",
    "!pip install dtreeviz\n",
    "import graphviz\n",
    "import dtreeviz"
   ]
  },
  {
   "cell_type": "markdown",
   "metadata": {},
   "source": [
    "**Данные о ДТП**"
   ]
  },
  {
   "cell_type": "code",
   "execution_count": 2,
   "metadata": {
    "id": "cGy69mvQx_BK"
   },
   "outputs": [],
   "source": [
    "\n",
    "#Moskow\n",
    "url = \"https://cms.dtp-stat.ru/media/opendata/moskva.geojson\"\n",
    "\n",
    "with urllib.request.urlopen(url) as url:\n",
    "    data = json.loads(url.read().decode())\n",
    "\n",
    "df = pd.json_normalize(data['features'])"
   ]
  },
  {
   "cell_type": "code",
   "execution_count": 3,
   "metadata": {
    "colab": {
     "base_uri": "https://localhost:8080/",
     "height": 870
    },
    "id": "6EZWvTsAQZ95",
    "outputId": "e352f93b-a7d8-4b1a-c75c-5689074a50bd"
   },
   "outputs": [
    {
     "data": {
      "text/html": [
       "<div>\n",
       "<style scoped>\n",
       "    .dataframe tbody tr th:only-of-type {\n",
       "        vertical-align: middle;\n",
       "    }\n",
       "\n",
       "    .dataframe tbody tr th {\n",
       "        vertical-align: top;\n",
       "    }\n",
       "\n",
       "    .dataframe thead th {\n",
       "        text-align: right;\n",
       "    }\n",
       "</style>\n",
       "<table border=\"1\" class=\"dataframe\">\n",
       "  <thead>\n",
       "    <tr style=\"text-align: right;\">\n",
       "      <th></th>\n",
       "      <th>type</th>\n",
       "      <th>geometry.type</th>\n",
       "      <th>geometry.coordinates</th>\n",
       "      <th>properties.id</th>\n",
       "      <th>properties.tags</th>\n",
       "      <th>properties.light</th>\n",
       "      <th>properties.point.lat</th>\n",
       "      <th>properties.point.long</th>\n",
       "      <th>properties.nearby</th>\n",
       "      <th>properties.region</th>\n",
       "      <th>...</th>\n",
       "      <th>properties.datetime</th>\n",
       "      <th>properties.severity</th>\n",
       "      <th>properties.vehicles</th>\n",
       "      <th>properties.dead_count</th>\n",
       "      <th>properties.participants</th>\n",
       "      <th>properties.injured_count</th>\n",
       "      <th>properties.parent_region</th>\n",
       "      <th>properties.road_conditions</th>\n",
       "      <th>properties.participants_count</th>\n",
       "      <th>properties.participant_categories</th>\n",
       "    </tr>\n",
       "  </thead>\n",
       "  <tbody>\n",
       "    <tr>\n",
       "      <th>0</th>\n",
       "      <td>Feature</td>\n",
       "      <td>Point</td>\n",
       "      <td>[37.601433, 55.743458]</td>\n",
       "      <td>1578215</td>\n",
       "      <td>[Дорожно-транспортные происшествия]</td>\n",
       "      <td>В темное время суток, освещение включено</td>\n",
       "      <td>55.743458</td>\n",
       "      <td>37.601433</td>\n",
       "      <td>[Многоквартирные жилые дома, Нерегулируемый пе...</td>\n",
       "      <td>Хамовники</td>\n",
       "      <td>...</td>\n",
       "      <td>2016-08-30 20:40:00</td>\n",
       "      <td>С погибшими</td>\n",
       "      <td>[{'year': 2015, 'brand': 'BMW', 'color': 'Крас...</td>\n",
       "      <td>1</td>\n",
       "      <td>[{'role': 'Пешеход', 'gender': 'Женский', 'vio...</td>\n",
       "      <td>0</td>\n",
       "      <td>Москва</td>\n",
       "      <td>[Сухое, Отсутствие дорожных знаков в необходим...</td>\n",
       "      <td>2</td>\n",
       "      <td>[Пешеходы, Мотоциклисты, Все участники]</td>\n",
       "    </tr>\n",
       "    <tr>\n",
       "      <th>1</th>\n",
       "      <td>Feature</td>\n",
       "      <td>Point</td>\n",
       "      <td>[37.58156, 55.76969]</td>\n",
       "      <td>1578237</td>\n",
       "      <td>[Дорожно-транспортные происшествия]</td>\n",
       "      <td>Светлое время суток</td>\n",
       "      <td>55.769690</td>\n",
       "      <td>37.581560</td>\n",
       "      <td>[Многоквартирные жилые дома, Регулируемый пере...</td>\n",
       "      <td>Пресненский</td>\n",
       "      <td>...</td>\n",
       "      <td>2016-08-11 13:55:00</td>\n",
       "      <td>Легкий</td>\n",
       "      <td>[{'year': None, 'brand': None, 'color': 'Иные ...</td>\n",
       "      <td>0</td>\n",
       "      <td>[]</td>\n",
       "      <td>1</td>\n",
       "      <td>Москва</td>\n",
       "      <td>[Сухое]</td>\n",
       "      <td>2</td>\n",
       "      <td>[Велосипедисты, Все участники]</td>\n",
       "    </tr>\n",
       "    <tr>\n",
       "      <th>2</th>\n",
       "      <td>Feature</td>\n",
       "      <td>Point</td>\n",
       "      <td>[37.611988, 55.754358]</td>\n",
       "      <td>1578234</td>\n",
       "      <td>[Дорожно-транспортные происшествия]</td>\n",
       "      <td>В темное время суток, освещение включено</td>\n",
       "      <td>55.754358</td>\n",
       "      <td>37.611988</td>\n",
       "      <td>[Регулируемый перекрёсток]</td>\n",
       "      <td>Пресненский</td>\n",
       "      <td>...</td>\n",
       "      <td>2016-08-12 21:45:00</td>\n",
       "      <td>Легкий</td>\n",
       "      <td>[{'year': 2015, 'brand': 'SKODA', 'color': 'Бе...</td>\n",
       "      <td>0</td>\n",
       "      <td>[]</td>\n",
       "      <td>1</td>\n",
       "      <td>Москва</td>\n",
       "      <td>[Сухое]</td>\n",
       "      <td>2</td>\n",
       "      <td>[Все участники]</td>\n",
       "    </tr>\n",
       "    <tr>\n",
       "      <th>3</th>\n",
       "      <td>Feature</td>\n",
       "      <td>Point</td>\n",
       "      <td>[37.5831, 55.0372]</td>\n",
       "      <td>1578239</td>\n",
       "      <td>[Дорожно-транспортные происшествия]</td>\n",
       "      <td>В темное время суток, освещение включено</td>\n",
       "      <td>55.037200</td>\n",
       "      <td>37.583100</td>\n",
       "      <td>[Многоквартирные жилые дома, Остановка обществ...</td>\n",
       "      <td>Мещанский</td>\n",
       "      <td>...</td>\n",
       "      <td>2016-08-29 00:05:00</td>\n",
       "      <td>Тяжёлый</td>\n",
       "      <td>[{'year': 2008, 'brand': 'CITROEN', 'color': '...</td>\n",
       "      <td>0</td>\n",
       "      <td>[{'role': 'Пешеход', 'gender': 'Мужской', 'vio...</td>\n",
       "      <td>1</td>\n",
       "      <td>Москва</td>\n",
       "      <td>[Сухое]</td>\n",
       "      <td>2</td>\n",
       "      <td>[Пешеходы, Все участники]</td>\n",
       "    </tr>\n",
       "    <tr>\n",
       "      <th>4</th>\n",
       "      <td>Feature</td>\n",
       "      <td>Point</td>\n",
       "      <td>[37.6986, 55.7364]</td>\n",
       "      <td>1578252</td>\n",
       "      <td>[Дорожно-транспортные происшествия]</td>\n",
       "      <td>Светлое время суток</td>\n",
       "      <td>55.736400</td>\n",
       "      <td>37.698600</td>\n",
       "      <td>[Мост, эстакада, путепровод, Эстакада, путепро...</td>\n",
       "      <td>Таганский</td>\n",
       "      <td>...</td>\n",
       "      <td>2016-08-04 18:00:00</td>\n",
       "      <td>Легкий</td>\n",
       "      <td>[{'year': 2000, 'brand': 'KAWASAKI', 'color': ...</td>\n",
       "      <td>0</td>\n",
       "      <td>[]</td>\n",
       "      <td>1</td>\n",
       "      <td>Москва</td>\n",
       "      <td>[Сухое]</td>\n",
       "      <td>2</td>\n",
       "      <td>[Мотоциклисты, Все участники]</td>\n",
       "    </tr>\n",
       "    <tr>\n",
       "      <th>...</th>\n",
       "      <td>...</td>\n",
       "      <td>...</td>\n",
       "      <td>...</td>\n",
       "      <td>...</td>\n",
       "      <td>...</td>\n",
       "      <td>...</td>\n",
       "      <td>...</td>\n",
       "      <td>...</td>\n",
       "      <td>...</td>\n",
       "      <td>...</td>\n",
       "      <td>...</td>\n",
       "      <td>...</td>\n",
       "      <td>...</td>\n",
       "      <td>...</td>\n",
       "      <td>...</td>\n",
       "      <td>...</td>\n",
       "      <td>...</td>\n",
       "      <td>...</td>\n",
       "      <td>...</td>\n",
       "      <td>...</td>\n",
       "      <td>...</td>\n",
       "    </tr>\n",
       "    <tr>\n",
       "      <th>72117</th>\n",
       "      <td>Feature</td>\n",
       "      <td>Point</td>\n",
       "      <td>[37.500876, 55.698643]</td>\n",
       "      <td>2595220</td>\n",
       "      <td>[Дорожно-транспортные происшествия]</td>\n",
       "      <td>В темное время суток, освещение включено</td>\n",
       "      <td>55.698643</td>\n",
       "      <td>37.500876</td>\n",
       "      <td>[Многоквартирные жилые дома, Административные ...</td>\n",
       "      <td>Раменки</td>\n",
       "      <td>...</td>\n",
       "      <td>2021-07-13 00:29:00</td>\n",
       "      <td>Легкий</td>\n",
       "      <td>[{'year': 2019, 'brand': 'VOLKSWAGEN', 'color'...</td>\n",
       "      <td>0</td>\n",
       "      <td>[]</td>\n",
       "      <td>1</td>\n",
       "      <td>Москва</td>\n",
       "      <td>[Сухое]</td>\n",
       "      <td>3</td>\n",
       "      <td>[Все участники]</td>\n",
       "    </tr>\n",
       "    <tr>\n",
       "      <th>72118</th>\n",
       "      <td>Feature</td>\n",
       "      <td>Point</td>\n",
       "      <td>[37.410818, 55.764557]</td>\n",
       "      <td>2595215</td>\n",
       "      <td>[Дорожно-транспортные происшествия]</td>\n",
       "      <td>Светлое время суток</td>\n",
       "      <td>55.764557</td>\n",
       "      <td>37.410818</td>\n",
       "      <td>[Многоквартирные жилые дома, Выезд с прилегающ...</td>\n",
       "      <td>Крылатское</td>\n",
       "      <td>...</td>\n",
       "      <td>2021-07-12 15:33:00</td>\n",
       "      <td>Легкий</td>\n",
       "      <td>[{'year': 2014, 'brand': 'INFINITI', 'color': ...</td>\n",
       "      <td>0</td>\n",
       "      <td>[{'role': 'Пешеход', 'gender': 'Женский', 'vio...</td>\n",
       "      <td>1</td>\n",
       "      <td>Москва</td>\n",
       "      <td>[Сухое]</td>\n",
       "      <td>2</td>\n",
       "      <td>[Пешеходы, Все участники]</td>\n",
       "    </tr>\n",
       "    <tr>\n",
       "      <th>72119</th>\n",
       "      <td>Feature</td>\n",
       "      <td>Point</td>\n",
       "      <td>[37.670349, 55.781491]</td>\n",
       "      <td>2595213</td>\n",
       "      <td>[Дорожно-транспортные происшествия, ДТП и пост...</td>\n",
       "      <td>Светлое время суток</td>\n",
       "      <td>55.781491</td>\n",
       "      <td>37.670349</td>\n",
       "      <td>[Многоквартирные жилые дома, Административные ...</td>\n",
       "      <td>Красносельский</td>\n",
       "      <td>...</td>\n",
       "      <td>2021-07-12 11:25:00</td>\n",
       "      <td>Тяжёлый</td>\n",
       "      <td>[{'year': 2017, 'brand': 'KIA', 'color': 'Белы...</td>\n",
       "      <td>0</td>\n",
       "      <td>[{'role': 'Пешеход', 'gender': 'Женский', 'vio...</td>\n",
       "      <td>1</td>\n",
       "      <td>Москва</td>\n",
       "      <td>[Сухое]</td>\n",
       "      <td>2</td>\n",
       "      <td>[Пешеходы, Все участники]</td>\n",
       "    </tr>\n",
       "    <tr>\n",
       "      <th>72120</th>\n",
       "      <td>Feature</td>\n",
       "      <td>Point</td>\n",
       "      <td>[37.591749, 55.576744]</td>\n",
       "      <td>2595219</td>\n",
       "      <td>[Дорожно-транспортные происшествия]</td>\n",
       "      <td>В темное время суток, освещение включено</td>\n",
       "      <td>55.576744</td>\n",
       "      <td>37.591749</td>\n",
       "      <td>[Остановка общественного транспорта, Надземный...</td>\n",
       "      <td>Чертаново Южное</td>\n",
       "      <td>...</td>\n",
       "      <td>2021-07-13 00:18:00</td>\n",
       "      <td>С погибшими</td>\n",
       "      <td>[{'year': 2008, 'brand': 'HONDA', 'color': 'Си...</td>\n",
       "      <td>1</td>\n",
       "      <td>[{'role': 'Пешеход', 'gender': 'Мужской', 'vio...</td>\n",
       "      <td>0</td>\n",
       "      <td>Москва</td>\n",
       "      <td>[Сухое]</td>\n",
       "      <td>2</td>\n",
       "      <td>[Пешеходы, Все участники]</td>\n",
       "    </tr>\n",
       "    <tr>\n",
       "      <th>72121</th>\n",
       "      <td>Feature</td>\n",
       "      <td>Point</td>\n",
       "      <td>[37.900525, 55.719479]</td>\n",
       "      <td>2595217</td>\n",
       "      <td>[Дорожно-транспортные происшествия]</td>\n",
       "      <td>Светлое время суток</td>\n",
       "      <td>55.719479</td>\n",
       "      <td>37.900525</td>\n",
       "      <td>[Многоквартирные жилые дома, Мост, Остановка о...</td>\n",
       "      <td>Косино-Ухтомский</td>\n",
       "      <td>...</td>\n",
       "      <td>2021-07-12 18:53:00</td>\n",
       "      <td>Легкий</td>\n",
       "      <td>[{'year': 2014, 'brand': 'KIA', 'color': 'Кори...</td>\n",
       "      <td>0</td>\n",
       "      <td>[]</td>\n",
       "      <td>1</td>\n",
       "      <td>Москва</td>\n",
       "      <td>[Сухое]</td>\n",
       "      <td>2</td>\n",
       "      <td>[Велосипедисты, Все участники]</td>\n",
       "    </tr>\n",
       "  </tbody>\n",
       "</table>\n",
       "<p>72122 rows × 24 columns</p>\n",
       "</div>"
      ],
      "text/plain": [
       "          type geometry.type    geometry.coordinates  properties.id  \\\n",
       "0      Feature         Point  [37.601433, 55.743458]        1578215   \n",
       "1      Feature         Point    [37.58156, 55.76969]        1578237   \n",
       "2      Feature         Point  [37.611988, 55.754358]        1578234   \n",
       "3      Feature         Point      [37.5831, 55.0372]        1578239   \n",
       "4      Feature         Point      [37.6986, 55.7364]        1578252   \n",
       "...        ...           ...                     ...            ...   \n",
       "72117  Feature         Point  [37.500876, 55.698643]        2595220   \n",
       "72118  Feature         Point  [37.410818, 55.764557]        2595215   \n",
       "72119  Feature         Point  [37.670349, 55.781491]        2595213   \n",
       "72120  Feature         Point  [37.591749, 55.576744]        2595219   \n",
       "72121  Feature         Point  [37.900525, 55.719479]        2595217   \n",
       "\n",
       "                                         properties.tags  \\\n",
       "0                    [Дорожно-транспортные происшествия]   \n",
       "1                    [Дорожно-транспортные происшествия]   \n",
       "2                    [Дорожно-транспортные происшествия]   \n",
       "3                    [Дорожно-транспортные происшествия]   \n",
       "4                    [Дорожно-транспортные происшествия]   \n",
       "...                                                  ...   \n",
       "72117                [Дорожно-транспортные происшествия]   \n",
       "72118                [Дорожно-транспортные происшествия]   \n",
       "72119  [Дорожно-транспортные происшествия, ДТП и пост...   \n",
       "72120                [Дорожно-транспортные происшествия]   \n",
       "72121                [Дорожно-транспортные происшествия]   \n",
       "\n",
       "                               properties.light  properties.point.lat  \\\n",
       "0      В темное время суток, освещение включено             55.743458   \n",
       "1                           Светлое время суток             55.769690   \n",
       "2      В темное время суток, освещение включено             55.754358   \n",
       "3      В темное время суток, освещение включено             55.037200   \n",
       "4                           Светлое время суток             55.736400   \n",
       "...                                         ...                   ...   \n",
       "72117  В темное время суток, освещение включено             55.698643   \n",
       "72118                       Светлое время суток             55.764557   \n",
       "72119                       Светлое время суток             55.781491   \n",
       "72120  В темное время суток, освещение включено             55.576744   \n",
       "72121                       Светлое время суток             55.719479   \n",
       "\n",
       "       properties.point.long  \\\n",
       "0                  37.601433   \n",
       "1                  37.581560   \n",
       "2                  37.611988   \n",
       "3                  37.583100   \n",
       "4                  37.698600   \n",
       "...                      ...   \n",
       "72117              37.500876   \n",
       "72118              37.410818   \n",
       "72119              37.670349   \n",
       "72120              37.591749   \n",
       "72121              37.900525   \n",
       "\n",
       "                                       properties.nearby properties.region  \\\n",
       "0      [Многоквартирные жилые дома, Нерегулируемый пе...         Хамовники   \n",
       "1      [Многоквартирные жилые дома, Регулируемый пере...       Пресненский   \n",
       "2                             [Регулируемый перекрёсток]       Пресненский   \n",
       "3      [Многоквартирные жилые дома, Остановка обществ...         Мещанский   \n",
       "4      [Мост, эстакада, путепровод, Эстакада, путепро...         Таганский   \n",
       "...                                                  ...               ...   \n",
       "72117  [Многоквартирные жилые дома, Административные ...           Раменки   \n",
       "72118  [Многоквартирные жилые дома, Выезд с прилегающ...        Крылатское   \n",
       "72119  [Многоквартирные жилые дома, Административные ...    Красносельский   \n",
       "72120  [Остановка общественного транспорта, Надземный...   Чертаново Южное   \n",
       "72121  [Многоквартирные жилые дома, Мост, Остановка о...  Косино-Ухтомский   \n",
       "\n",
       "       ...  properties.datetime properties.severity  \\\n",
       "0      ...  2016-08-30 20:40:00         С погибшими   \n",
       "1      ...  2016-08-11 13:55:00              Легкий   \n",
       "2      ...  2016-08-12 21:45:00              Легкий   \n",
       "3      ...  2016-08-29 00:05:00             Тяжёлый   \n",
       "4      ...  2016-08-04 18:00:00              Легкий   \n",
       "...    ...                  ...                 ...   \n",
       "72117  ...  2021-07-13 00:29:00              Легкий   \n",
       "72118  ...  2021-07-12 15:33:00              Легкий   \n",
       "72119  ...  2021-07-12 11:25:00             Тяжёлый   \n",
       "72120  ...  2021-07-13 00:18:00         С погибшими   \n",
       "72121  ...  2021-07-12 18:53:00              Легкий   \n",
       "\n",
       "                                     properties.vehicles  \\\n",
       "0      [{'year': 2015, 'brand': 'BMW', 'color': 'Крас...   \n",
       "1      [{'year': None, 'brand': None, 'color': 'Иные ...   \n",
       "2      [{'year': 2015, 'brand': 'SKODA', 'color': 'Бе...   \n",
       "3      [{'year': 2008, 'brand': 'CITROEN', 'color': '...   \n",
       "4      [{'year': 2000, 'brand': 'KAWASAKI', 'color': ...   \n",
       "...                                                  ...   \n",
       "72117  [{'year': 2019, 'brand': 'VOLKSWAGEN', 'color'...   \n",
       "72118  [{'year': 2014, 'brand': 'INFINITI', 'color': ...   \n",
       "72119  [{'year': 2017, 'brand': 'KIA', 'color': 'Белы...   \n",
       "72120  [{'year': 2008, 'brand': 'HONDA', 'color': 'Си...   \n",
       "72121  [{'year': 2014, 'brand': 'KIA', 'color': 'Кори...   \n",
       "\n",
       "      properties.dead_count  \\\n",
       "0                         1   \n",
       "1                         0   \n",
       "2                         0   \n",
       "3                         0   \n",
       "4                         0   \n",
       "...                     ...   \n",
       "72117                     0   \n",
       "72118                     0   \n",
       "72119                     0   \n",
       "72120                     1   \n",
       "72121                     0   \n",
       "\n",
       "                                 properties.participants  \\\n",
       "0      [{'role': 'Пешеход', 'gender': 'Женский', 'vio...   \n",
       "1                                                     []   \n",
       "2                                                     []   \n",
       "3      [{'role': 'Пешеход', 'gender': 'Мужской', 'vio...   \n",
       "4                                                     []   \n",
       "...                                                  ...   \n",
       "72117                                                 []   \n",
       "72118  [{'role': 'Пешеход', 'gender': 'Женский', 'vio...   \n",
       "72119  [{'role': 'Пешеход', 'gender': 'Женский', 'vio...   \n",
       "72120  [{'role': 'Пешеход', 'gender': 'Мужской', 'vio...   \n",
       "72121                                                 []   \n",
       "\n",
       "      properties.injured_count properties.parent_region  \\\n",
       "0                            0                   Москва   \n",
       "1                            1                   Москва   \n",
       "2                            1                   Москва   \n",
       "3                            1                   Москва   \n",
       "4                            1                   Москва   \n",
       "...                        ...                      ...   \n",
       "72117                        1                   Москва   \n",
       "72118                        1                   Москва   \n",
       "72119                        1                   Москва   \n",
       "72120                        0                   Москва   \n",
       "72121                        1                   Москва   \n",
       "\n",
       "                              properties.road_conditions  \\\n",
       "0      [Сухое, Отсутствие дорожных знаков в необходим...   \n",
       "1                                                [Сухое]   \n",
       "2                                                [Сухое]   \n",
       "3                                                [Сухое]   \n",
       "4                                                [Сухое]   \n",
       "...                                                  ...   \n",
       "72117                                            [Сухое]   \n",
       "72118                                            [Сухое]   \n",
       "72119                                            [Сухое]   \n",
       "72120                                            [Сухое]   \n",
       "72121                                            [Сухое]   \n",
       "\n",
       "      properties.participants_count        properties.participant_categories  \n",
       "0                                 2  [Пешеходы, Мотоциклисты, Все участники]  \n",
       "1                                 2           [Велосипедисты, Все участники]  \n",
       "2                                 2                          [Все участники]  \n",
       "3                                 2                [Пешеходы, Все участники]  \n",
       "4                                 2            [Мотоциклисты, Все участники]  \n",
       "...                             ...                                      ...  \n",
       "72117                             3                          [Все участники]  \n",
       "72118                             2                [Пешеходы, Все участники]  \n",
       "72119                             2                [Пешеходы, Все участники]  \n",
       "72120                             2                [Пешеходы, Все участники]  \n",
       "72121                             2           [Велосипедисты, Все участники]  \n",
       "\n",
       "[72122 rows x 24 columns]"
      ]
     },
     "execution_count": 3,
     "metadata": {},
     "output_type": "execute_result"
    }
   ],
   "source": [
    "df"
   ]
  },
  {
   "cell_type": "markdown",
   "metadata": {},
   "source": [
    "**Обработаем данные**"
   ]
  },
  {
   "cell_type": "code",
   "execution_count": null,
   "metadata": {
    "colab": {
     "base_uri": "https://localhost:8080/",
     "height": 870
    },
    "id": "C0jS6fumQai9",
    "outputId": "1b11097c-e0b7-4bf0-e7bd-691e87eaffc5"
   },
   "outputs": [],
   "source": [
    "# Функция для извлечения значений координат\n",
    "def extract_coordinates(row):\n",
    "    lon, lat = row['geometry.coordinates']\n",
    "    return pd.Series({'longitude': lon, 'latitude': lat})\n",
    "\n",
    "# Применение функции к столбцу 'geometry.coordinates'\n",
    "df[['longitude', 'latitude']] = df.apply(extract_coordinates, axis=1)\n"
   ]
  },
  {
   "cell_type": "code",
   "execution_count": null,
   "metadata": {
    "id": "VTeWvhx8SNSF"
   },
   "outputs": [],
   "source": [
    "df['properties.datetime'] = df['properties.datetime'].astype('datetime64')\n",
    "df['year'] = df['properties.datetime'].dt.year"
   ]
  },
  {
   "cell_type": "code",
   "execution_count": null,
   "metadata": {
    "id": "Rh8L3tuOTJOP"
   },
   "outputs": [],
   "source": [
    "#df = df[df['year'] == 2023]\n",
    "df = df[(df['year'] == 2022) | (df['year'] == 2023)]\n",
    "# df = df[(df['year'] == 2021) | (df['year'] == 2022) | (df['year'] == 2023)]"
   ]
  },
  {
   "cell_type": "code",
   "execution_count": null,
   "metadata": {
    "colab": {
     "base_uri": "https://localhost:8080/",
     "height": 975
    },
    "id": "B2-JsjF-iJ2O",
    "outputId": "70d5f517-c765-41ff-ffd6-963c52c5d8f9"
   },
   "outputs": [],
   "source": [
    "road_znak = pd.read_csv ('data-115269-2022-12-23.csv', sep=';', encoding='cp1251')\n",
    "road_znak = road_znak.rename(columns=road_znak.iloc[0])\n",
    "road_znak.reset_index(drop=True, inplace=True)\n",
    "road_znak = road_znak.drop(0, axis=0).reset_index(drop=True)\n",
    "head_features = ['8.23 Фотовидеофиксация', '3.25 Конец ограничения максимальной скорости', 'Ограничение максимальной скорости']\n",
    "road_znak_head = road_znak.loc[(road_znak['Тип дорожного знака'] == '8.23 Фотовидеофиксация') |\n",
    "       (road_znak['Тип дорожного знака'] == '3.24 Ограничение максимальной скорости')]\n",
    "\n",
    "lat_fvf = road_znak_head[road_znak_head['Тип дорожного знака'] == '8.23 Фотовидеофиксация']['Широта в WGS-84']\n",
    "lon_fvf = road_znak_head[road_znak_head['Тип дорожного знака'] == '8.23 Фотовидеофиксация']['Долгота в WGS-84']\n",
    "road_znak_head_fvf = road_znak_head[road_znak_head['Тип дорожного знака'] == '8.23 Фотовидеофиксация']\n",
    "\n",
    "lat_speed_limit = road_znak_head[road_znak_head['Тип дорожного знака'] == '3.24 Ограничение максимальной скорости']['Широта в WGS-84']\n",
    "lon_speed_limit = road_znak_head[road_znak_head['Тип дорожного знака'] == '3.24 Ограничение максимальной скорости']['Долгота в WGS-84']\n",
    "speed_limit = road_znak_head[road_znak_head['Тип дорожного знака'] == '3.24 Ограничение максимальной скорости']\n",
    "\n",
    "road_znak_head"
   ]
  },
  {
   "cell_type": "code",
   "execution_count": null,
   "metadata": {
    "id": "EGthxSG6c6Wz"
   },
   "outputs": [],
   "source": [
    "df = df.dropna()"
   ]
  },
  {
   "cell_type": "markdown",
   "metadata": {
    "id": "CHcGPDFMFJem"
   },
   "source": [
    "# First_road"
   ]
  },
  {
   "cell_type": "markdown",
   "metadata": {},
   "source": [
    "**Загрузим координаты первой дороги**"
   ]
  },
  {
   "cell_type": "code",
   "execution_count": null,
   "metadata": {
    "colab": {
     "base_uri": "https://localhost:8080/"
    },
    "id": "09XCtES7MPUw",
    "outputId": "81214103-0e1e-4138-da82-edf4da230d24"
   },
   "outputs": [],
   "source": [
    "df_coords = pd.read_json('one_road.json')\n",
    "distance_kut_pr = df_coords['features'][0]['properties']['segments'][0]['distance']\n",
    "df_coords = df_coords['features'][0]['geometry']['coordinates']\n",
    "\n",
    "lons = [coord[0] for coord in df_coords]\n",
    "lats = [coord[1] for coord in df_coords]\n",
    "\n",
    "df_coords = pd.DataFrame({'lon': lons, 'lat': lats})\n",
    "print(df_coords)\n"
   ]
  },
  {
   "cell_type": "code",
   "execution_count": null,
   "metadata": {},
   "outputs": [],
   "source": [
    "import geopy\n",
    "import geopy.distance"
   ]
  },
  {
   "cell_type": "markdown",
   "metadata": {},
   "source": [
    "**Подготовка данных для проверки гипотезы**"
   ]
  },
  {
   "cell_type": "markdown",
   "metadata": {},
   "source": [
    "В нижеуказанном коде происходит обработка геоданных (координат местоположения) и их визуализация на карте.\n",
    "- Сначала создаются геодатафреймы (gdf) для центроидов, данных об объектах и мест на карте (df_geometry_gdf, kfvf_gdf и speed_limit_gdf).\n",
    "- Затем используется модель KMeans для кластеризации центроидов по расстоянию между ними, после чего определяются ближайшие точки к центроидам и получаются сами центроиды.\n",
    "- Далее создается карта, на которой отображаются красные квадраты, соответствующие центроидам, а также синие точки (дтп), оранжевые точки (КФВФ) и зеленые точки (ограничение скорости), которые находятся внутри красных квадратов.\n",
    "- Также происходит расчет расстояний между точками в метрах и площади прямоугольника.\n",
    "\n",
    "Данные действия производятся для возможности тестирования гипотезы разными методами"
   ]
  },
  {
   "cell_type": "code",
   "execution_count": null,
   "metadata": {
    "colab": {
     "base_uri": "https://localhost:8080/"
    },
    "id": "7_9Dq1HnvPj1",
    "outputId": "035f5f4e-66a2-4346-ead3-e62b13a7bb10"
   },
   "outputs": [],
   "source": [
    "# Создаем геодатафрейм для создания центроидов\n",
    "geometry = gpd.points_from_xy(df_coords.lon, df_coords.lat)\n",
    "gdf = gpd.GeoDataFrame(df_coords, geometry=geometry)\n",
    "\n",
    "# Создаем геодатафрейм для df\n",
    "df_geometry = gpd.points_from_xy(df.longitude, df.latitude)\n",
    "df_geometry_gdf = gpd.GeoDataFrame(df, geometry=df_geometry)\n",
    "\n",
    "# Создаем геодатафрейм для КФВФ\n",
    "kfvf_geometry = gpd.points_from_xy(lon_fvf, lat_fvf)\n",
    "kfvf_gdf = gpd.GeoDataFrame(road_znak_head_fvf, geometry=kfvf_geometry)\n",
    "\n",
    "# Создаем геодатафрейм для ограничения скорости\n",
    "speed_limit_geometry = gpd.points_from_xy(lon_speed_limit, lat_speed_limit)\n",
    "speed_limit_gdf = gpd.GeoDataFrame(speed_limit, geometry=speed_limit_geometry)\n",
    "\n",
    "\n",
    "# Определяем количество кластеров для создания\n",
    "# количество кластеров зависит от расстояния между центроидами,\n",
    "# задаем минимальное расстояние между центроидами равным 1 км\n",
    "# коэффициент преобразования градусов в километры примерно равен 111\n",
    "k = 150\n",
    "\n",
    "# Создаем модель KMeans\n",
    "kmeans = KMeans(n_clusters=k)\n",
    "\n",
    "# Обучаем модель на координатах\n",
    "kmeans.fit(gdf[['lon', 'lat']])\n",
    "\n",
    "# Находим ближайшие точки к центроидам\n",
    "closest_points, _ = pairwise_distances_argmin_min(kmeans.cluster_centers_, gdf[['lon', 'lat']])\n",
    "\n",
    "# Получаем центроиды\n",
    "centroids = gdf.iloc[closest_points]\n",
    "\n",
    "\n",
    "\n",
    "# Создаем карту\n",
    "m = folium.Map(location=[55.7522, 37.6156], zoom_start=12)\n",
    "q = []\n",
    "# Добавляем красные квадраты на карту\n",
    "for _, row in centroids.iterrows():\n",
    "    # Определяем координаты квадрата, в котором будем искать точки\n",
    "    xmin, ymin, xmax, ymax = row.lon - (0.02 / 4), row.lat - (0.005 / 4), row.lon + (0.02 / 4), row.lat + (0.005 / 4)\n",
    "    rectangle = [[ymin, xmin], [ymin, xmax], [ymax, xmax], [ymax, xmin], [ymin, xmin]]\n",
    "\n",
    "\n",
    "    # Выбираем дтп\n",
    "    points = df_geometry_gdf.cx[xmin:xmax, ymin:ymax]\n",
    "\n",
    "    # Выбираем кфвф\n",
    "    kfvf_points = kfvf_gdf.cx[xmin:xmax, ymin:ymax]\n",
    "\n",
    "    # Выбираем ограничение скорости\n",
    "    speed_limit_points = speed_limit_gdf.cx[xmin:xmax, ymin:ymax]\n",
    "\n",
    "\n",
    "    # Подсчитываем количество точек дтп\n",
    "    num_points = points.shape[0]\n",
    "\n",
    "    # Подсчитываем количество КФВФ\n",
    "    num_kfvf_points = kfvf_points.shape[0]\n",
    "\n",
    "    # Подсчитываем количество ограничений скорости\n",
    "    num_speed_limit_points = speed_limit_points.shape[0]\n",
    "\n",
    "    q.append([num_points, num_kfvf_points, num_speed_limit_points])\n",
    "\n",
    "    \n",
    "    folium.Polygon(locations=rectangle, color='red').add_to(m)\n",
    "\n",
    "# Отображаем синие точки (дтп) на карте\n",
    "for _, row in df.iterrows():\n",
    "    folium.CircleMarker(location=[row['latitude'], row['longitude']], radius=2, color='blue', fill=True).add_to(m)\n",
    "\n",
    "# Отображаем оранжевые точки (КФВФ) на карте, которые попадают в красный квадрат\n",
    "for _, row in road_znak_head_fvf.iterrows():\n",
    "    folium.CircleMarker(location=[row['Широта в WGS-84'], row['Долгота в WGS-84']], radius=2, color='orange', fill=True).add_to(m)\n",
    "\n",
    "# Отображаем зеленые точки (ограничение скорости) на карте, которые попадают в красный квадрат\n",
    "for _, row in speed_limit.iterrows():\n",
    "    folium.CircleMarker(location=[row['Широта в WGS-84'], row['Долгота в WGS-84']], radius=2, color='green', fill=True).add_to(m)\n",
    "    \n",
    "# расчет расстояний между точками в метрах\n",
    "dist_lat = geopy.distance.distance((ymin, xmin), (ymax, xmin)).meters\n",
    "dist_lon = geopy.distance.distance((ymin, xmin), (ymin, xmax)).meters\n",
    "\n",
    "# расчет площади прямоугольника\n",
    "R = 6371  # радиус Земли в км\n",
    "area = R ** 2 * abs(sin(radians(ymax)) - sin(radians(ymin))) * radians(xmax - xmin)\n",
    "\n",
    "print(\"Площадь прямоугольника:\", round(area, 2), \"км^2\")\n",
    "print(\"Ширина прямоугольника:\", round(dist_lon / 1000, 2), \"км\")\n",
    "print(\"Высота прямоугольника:\", round(dist_lat / 1000, 2), \"км\")\n"
   ]
  },
  {
   "cell_type": "markdown",
   "metadata": {
    "id": "cIx_voTV0z1X"
   },
   "source": [
    "Синий цвет - ДТП\n",
    "\n",
    "Оранжевый - КФВФ\n",
    "\n",
    "Зеленый - знак ограничения скорости"
   ]
  },
  {
   "cell_type": "code",
   "execution_count": null,
   "metadata": {
    "colab": {
     "base_uri": "https://localhost:8080/",
     "height": 0
    },
    "id": "zP3YKe2teGCl",
    "outputId": "f0fe469a-4ba5-4eab-fc76-a7385b5835bb"
   },
   "outputs": [],
   "source": [
    "m"
   ]
  },
  {
   "cell_type": "code",
   "execution_count": null,
   "metadata": {
    "colab": {
     "base_uri": "https://localhost:8080/",
     "height": 0
    },
    "id": "xYm2gTEkeLVZ",
    "outputId": "e775655e-c5e0-486a-cbd2-0ca80921163d"
   },
   "outputs": [],
   "source": [
    "kut_pros = pd.DataFrame(data=q, columns=['количество_дтп', 'количество_знаков_кфвф', 'количество_знаков_ограничения_скорости'])"
   ]
  },
  {
   "cell_type": "markdown",
   "metadata": {
    "id": "6sHO4T4vFREA"
   },
   "source": [
    "# Second_road"
   ]
  },
  {
   "cell_type": "markdown",
   "metadata": {},
   "source": [
    "**Загрузим данные второй дороги**"
   ]
  },
  {
   "cell_type": "code",
   "execution_count": null,
   "metadata": {
    "colab": {
     "base_uri": "https://localhost:8080/"
    },
    "id": "TNllmCvPFREC",
    "outputId": "e505251a-6211-4f85-c38a-0505f885c22a"
   },
   "outputs": [],
   "source": [
    "df_coords = pd.read_json('first_road.json')\n",
    "distance_street_strom = df_coords['features'][0]['properties']['segments'][0]['distance']\n",
    "df_coords = df_coords['features'][0]['geometry']['coordinates']\n",
    "\n",
    "lons = [coord[0] for coord in df_coords]\n",
    "lats = [coord[1] for coord in df_coords]\n",
    "\n",
    "df_coords = pd.DataFrame({'lon': lons, 'lat': lats})\n",
    "print(df_coords)\n"
   ]
  },
  {
   "cell_type": "code",
   "execution_count": null,
   "metadata": {
    "colab": {
     "base_uri": "https://localhost:8080/"
    },
    "id": "JaKQzQofFREG",
    "outputId": "3d1c7338-e37d-4d5a-f55e-ea21d516994e"
   },
   "outputs": [],
   "source": [
    "# Создаем геодатафрейм для создания центроидов\n",
    "geometry = gpd.points_from_xy(df_coords.lon, df_coords.lat)\n",
    "gdf = gpd.GeoDataFrame(df_coords, geometry=geometry)\n",
    "\n",
    "# Создаем геодатафрейм для df\n",
    "df_geometry = gpd.points_from_xy(df.longitude, df.latitude)\n",
    "df_geometry_gdf = gpd.GeoDataFrame(df, geometry=df_geometry)\n",
    "\n",
    "# Создаем геодатафрейм для КФВФ\n",
    "kfvf_geometry = gpd.points_from_xy(lon_fvf, lat_fvf)\n",
    "kfvf_gdf = gpd.GeoDataFrame(road_znak_head_fvf, geometry=kfvf_geometry)\n",
    "\n",
    "# Создаем геодатафрейм для ограничения скорости\n",
    "speed_limit_geometry = gpd.points_from_xy(lon_speed_limit, lat_speed_limit)\n",
    "speed_limit_gdf = gpd.GeoDataFrame(speed_limit, geometry=speed_limit_geometry)\n",
    "\n",
    "\n",
    "# Определяем количество кластеров для создания\n",
    "# количество кластеров зависит от расстояния между центроидами,\n",
    "# задаем минимальное расстояние между центроидами равным 1 км\n",
    "# коэффициент преобразования градусов в километры примерно равен 111\n",
    "k = 150\n",
    "# Создаем модель KMeans\n",
    "kmeans = KMeans(n_clusters=k)\n",
    "\n",
    "# Обучаем модель на координатах\n",
    "kmeans.fit(gdf[['lon', 'lat']])\n",
    "\n",
    "# Находим ближайшие точки к центроидам\n",
    "closest_points, _ = pairwise_distances_argmin_min(kmeans.cluster_centers_, gdf[['lon', 'lat']])\n",
    "\n",
    "# Получаем центроиды\n",
    "centroids = gdf.iloc[closest_points]\n",
    "\n",
    "\n",
    "\n",
    "# Создаем карту\n",
    "m = folium.Map(location=[55.7522, 37.6156], zoom_start=12)\n",
    "q = []\n",
    "# Добавляем красные квадраты на карту\n",
    "for _, row in centroids.iterrows():\n",
    "    # Определяем координаты квадрата, в котором будем искать точки\n",
    "    xmin, ymin, xmax, ymax = row.lon - (0.02 / 4), row.lat - (0.005 / 4), row.lon + (0.02 / 4), row.lat + (0.005 / 4)\n",
    "    rectangle = [[ymin, xmin], [ymin, xmax], [ymax, xmax], [ymax, xmin], [ymin, xmin]]\n",
    "\n",
    "\n",
    "    # Выбираем дтп\n",
    "    points = df_geometry_gdf.cx[xmin:xmax, ymin:ymax]\n",
    "\n",
    "    # Выбираем кфвф\n",
    "    kfvf_points = kfvf_gdf.cx[xmin:xmax, ymin:ymax]\n",
    "\n",
    "    # Выбираем ограничение скорости\n",
    "    speed_limit_points = speed_limit_gdf.cx[xmin:xmax, ymin:ymax]\n",
    "\n",
    "\n",
    "    # Подсчитываем количество точек дтп\n",
    "    num_points = points.shape[0]\n",
    "\n",
    "    # Подсчитываем количество КФВФ\n",
    "    num_kfvf_points = kfvf_points.shape[0]\n",
    "\n",
    "    # Подсчитываем количество ограничений скорости\n",
    "    num_speed_limit_points = speed_limit_points.shape[0]\n",
    "\n",
    "    q.append([num_points, num_kfvf_points, num_speed_limit_points])\n",
    "\n",
    "    \n",
    "    folium.Polygon(locations=rectangle, color='red').add_to(m)\n",
    "\n",
    "# Отображаем синие точки (дтп) на карте\n",
    "for _, row in df.iterrows():\n",
    "    folium.CircleMarker(location=[row['latitude'], row['longitude']], radius=2, color='blue', fill=True).add_to(m)\n",
    "\n",
    "# Отображаем оранжевые точки (КФВФ) на карте, которые попадают в красный квадрат\n",
    "for _, row in road_znak_head_fvf.iterrows():\n",
    "    folium.CircleMarker(location=[row['Широта в WGS-84'], row['Долгота в WGS-84']], radius=2, color='orange', fill=True).add_to(m)\n",
    "\n",
    "# Отображаем зеленые точки (ограничение скорости) на карте, которые попадают в красный квадрат\n",
    "for _, row in speed_limit.iterrows():\n",
    "    folium.CircleMarker(location=[row['Широта в WGS-84'], row['Долгота в WGS-84']], radius=2, color='green', fill=True).add_to(m)\n",
    "\n",
    "# расчет расстояний между точками в метрах\n",
    "dist_lat = geopy.distance.distance((ymin, xmin), (ymax, xmin)).meters\n",
    "dist_lon = geopy.distance.distance((ymin, xmin), (ymin, xmax)).meters\n",
    "\n",
    "# расчет площади прямоугольника\n",
    "R = 6371  # радиус Земли в км\n",
    "area = R ** 2 * abs(sin(radians(ymax)) - sin(radians(ymin))) * radians(xmax - xmin)\n",
    "\n",
    "print(\"Площадь прямоугольника:\", round(area, 2), \"км^2\")\n",
    "print(\"Ширина прямоугольника:\", round(dist_lon / 1000, 2), \"км\")\n",
    "print(\"Высота прямоугольника:\", round(dist_lat / 1000, 2), \"км\")"
   ]
  },
  {
   "cell_type": "markdown",
   "metadata": {
    "id": "yqA-3ff0FREJ"
   },
   "source": [
    "Синий цвет - ДТП\n",
    "\n",
    "Оранжевый - КФВФ\n",
    "\n",
    "Зеленый - знак ограничения скорости"
   ]
  },
  {
   "cell_type": "code",
   "execution_count": null,
   "metadata": {
    "colab": {
     "base_uri": "https://localhost:8080/",
     "height": 0
    },
    "id": "YWzGLOKcFREL",
    "outputId": "b092c382-b77b-46ee-a3ae-81276686e876"
   },
   "outputs": [],
   "source": [
    "m"
   ]
  },
  {
   "cell_type": "code",
   "execution_count": null,
   "metadata": {
    "colab": {
     "base_uri": "https://localhost:8080/",
     "height": 0
    },
    "id": "duXMxvySFREN",
    "outputId": "d3ad32f4-8cc6-4253-e6f6-915285189303"
   },
   "outputs": [],
   "source": [
    "strom_street = pd.DataFrame(data=q, columns=['количество_дтп', 'количество_знаков_кфвф', 'количество_знаков_ограничения_скорости'])\n",
    "strom_street"
   ]
  },
  {
   "cell_type": "code",
   "execution_count": null,
   "metadata": {
    "colab": {
     "base_uri": "https://localhost:8080/"
    },
    "id": "kfJdOJ0MFREP",
    "outputId": "5b3f68b6-b0d3-4b94-da86-7ded3b49b38c"
   },
   "outputs": [],
   "source": [
    "distance_street_strom"
   ]
  },
  {
   "cell_type": "code",
   "execution_count": null,
   "metadata": {
    "id": "Udi87trtw-Oz"
   },
   "outputs": [],
   "source": []
  },
  {
   "cell_type": "markdown",
   "metadata": {
    "id": "lbsQyiaMW9MN"
   },
   "source": [
    "# Проверка гипотезы"
   ]
  },
  {
   "cell_type": "code",
   "execution_count": null,
   "metadata": {
    "id": "MzE41XL-XCL2"
   },
   "outputs": [],
   "source": [
    "all = pd.concat([strom_street, kut_pros])\n"
   ]
  },
  {
   "cell_type": "markdown",
   "metadata": {
    "id": "vi8cjKEUsYR9"
   },
   "source": [
    "**стат тест**"
   ]
  },
  {
   "cell_type": "code",
   "execution_count": null,
   "metadata": {
    "id": "p-wQlsoDsrz2"
   },
   "outputs": [],
   "source": [
    "df=all"
   ]
  },
  {
   "cell_type": "code",
   "execution_count": null,
   "metadata": {
    "id": "XsR5UaPbtUnJ"
   },
   "outputs": [],
   "source": [
    "df = df[df.количество_знаков_ограничения_скорости > 0].copy()"
   ]
  },
  {
   "cell_type": "code",
   "execution_count": null,
   "metadata": {
    "colab": {
     "base_uri": "https://localhost:8080/"
    },
    "id": "96WxMtJUsbnh",
    "outputId": "0e426e3d-e20a-49ef-8031-6a86d8af9de6"
   },
   "outputs": [],
   "source": [
    "df['камера_в_кластере'] = df['количество_знаков_кфвф'].apply(lambda x: 'да' if x > 0 else 'нет')\n",
    "\n",
    "from scipy.stats import ttest_ind\n",
    "\n",
    "# разделение данных на две группы в зависимости от наличия камеры в кластере\n",
    "group1 = df[df['камера_в_кластере'] == 'нет']['количество_дтп']\n",
    "group2 = df[df['камера_в_кластере'] == 'да']['количество_дтп']\n",
    "\n",
    "# проведение t-теста\n",
    "t, p = ttest_ind(group1, group2)\n",
    "\n",
    "# вывод результатов теста\n",
    "print(\"t-статистика:\", t)\n",
    "print(\"p-значение:\", p)\n",
    "\n",
    "if p < 0.05:\n",
    "    print(\"Гипотеза подтверждена\")\n",
    "else:\n",
    "    print(\"Гипотеза не подтверждена\")\n"
   ]
  },
  {
   "cell_type": "markdown",
   "metadata": {
    "id": "NbG7CczIuc03"
   },
   "source": [
    "Значение t-статистики показывает, насколько отличаются средние значения количества ДТП на участках дорог с камерами и без камер. Значение t-статистики отрицательное, что говорит о том, что на участках дорог с камерами количество ДТП меньше, чем на участках дорог без камер.\n",
    "\n",
    "Исходя из полученных результатов теста, можно сделать вывод о том, что гипотеза подтверждена на выбранном уровне значимости. То есть, на участках автомобильных дорог, оборудованных и знаком ограничения скорости, и знаком о работе камер фото- и видеофиксации, действительно регистрируется меньшее число ДТП, чем на участках автомобильных дорог, оборудованных только знаками ограничения скорости. Это может свидетельствовать о том, что применение камер фото- и видеофиксации способствует снижению количества ДТП на дорогах."
   ]
  },
  {
   "cell_type": "markdown",
   "metadata": {
    "tags": []
   },
   "source": [
    "# Доказательство с помощью моделирования"
   ]
  },
  {
   "cell_type": "code",
   "execution_count": null,
   "metadata": {
    "id": "T-O3Rcxsza1U"
   },
   "outputs": [],
   "source": [
    "import pandas as pd\n",
    "from sklearn.tree import DecisionTreeClassifier\n",
    "from sklearn.metrics import accuracy_score, precision_score, recall_score, f1_score, roc_auc_score\n",
    "from sklearn.ensemble import RandomForestClassifier\n",
    "from sklearn.ensemble import GradientBoostingClassifier\n",
    "from sklearn.linear_model import LogisticRegression\n",
    "df = all\n",
    "\n",
    "# df = df[df.количество_знаков_ограничения_скорости > 0].copy()\n",
    "df['знак_кфвф_в_кластере'] = df['количество_знаков_кфвф'].apply(lambda x: '1' if x > 0 else '0')\n",
    "df['факт_дтп'] = df['количество_дтп'].apply(lambda x: '1' if x > 0 else '0')\n",
    "df['знак_огр_скорости'] = df['количество_знаков_ограничения_скорости'].apply(lambda x: '1' if x > 0 else '0')\n",
    "\n",
    "df['факт_дтп'] = df['факт_дтп'].astype('int64')\n",
    "\n",
    "\n",
    "# разделяем данные на тренировочный и тестовый наборы\n",
    "train_data = df.sample(frac=0.7, random_state=42)\n",
    "test_data = df.drop(train_data.index)\n",
    "\n",
    "# определяем целевую переменную и признаки\n",
    "target = 'факт_дтп'\n",
    "features = ['количество_знаков_кфвф', 'количество_знаков_ограничения_скорости', 'знак_кфвф_в_кластере', 'знак_огр_скорости']"
   ]
  },
  {
   "cell_type": "markdown",
   "metadata": {
    "id": "0ofMDwuxkQd5"
   },
   "source": [
    "посмотрим на баланс классов"
   ]
  },
  {
   "cell_type": "code",
   "execution_count": null,
   "metadata": {
    "colab": {
     "base_uri": "https://localhost:8080/"
    },
    "id": "OzKKEH-mUfKa",
    "outputId": "5e9266ca-01e3-4f1a-8d1e-f455d96671ec"
   },
   "outputs": [],
   "source": [
    "df.факт_дтп.value_counts()"
   ]
  },
  {
   "cell_type": "markdown",
   "metadata": {
    "id": "93J960GtYShs",
    "tags": []
   },
   "source": [
    "# Дерево решений + случайный лес + градиентный бустинг из коробки"
   ]
  },
  {
   "cell_type": "markdown",
   "metadata": {},
   "source": [
    "Нижеуказанный код строит четыре различных модели машинного обучения и обучает каждую на обучающих данных, затем тестирует их на тестовых данных, используя различные метрики для оценки их производительности.\n",
    "\n",
    "Модели, используемые в этом коде, включают решающее дерево, случайный лес, логистическую регрессию и CatBoost. Для каждой модели вычисляются показатели точности, точности, полноты, F1-оценки и ROC AUC-оценки, которые затем сохраняются в DataFrame."
   ]
  },
  {
   "cell_type": "code",
   "execution_count": null,
   "metadata": {
    "colab": {
     "base_uri": "https://localhost:8080/",
     "height": 175
    },
    "id": "qyXhg_1IHTZN",
    "outputId": "af48df1e-73c8-4707-e7c2-d562727fba36"
   },
   "outputs": [],
   "source": [
    "\n",
    "\n",
    "# список моделей и их параметров\n",
    "models = [{'name': 'DecisionTreeClassifier', 'model': DecisionTreeClassifier(random_state=42)},\n",
    "          {'name': 'RandomForestClassifier', 'model': RandomForestClassifier(random_state=42, class_weight='balanced')},\n",
    "          {'name': 'LogisticRegression', 'model': LogisticRegression(random_state=42, class_weight = 'balanced')},\n",
    "          {'name': 'CatBoostClassifier', 'model': CatBoostClassifier(random_state=42, verbose=False)}]\n",
    "\n",
    "# список для хранения метрик каждой модели\n",
    "metrics = []\n",
    "\n",
    "# обучаем каждую модель, делаем предсказания на тестовых данных и вычисляем метрики\n",
    "for m in models:\n",
    "    model = m['model']\n",
    "    model.fit(train_data[features], train_data[target])\n",
    "    predictions = model.predict(test_data[features])\n",
    "    accuracy = accuracy_score(test_data[target], predictions)\n",
    "    precision = precision_score(test_data[target], predictions)\n",
    "    recall = recall_score(test_data[target], predictions)\n",
    "    f1 = f1_score(test_data[target], predictions)\n",
    "    roc_auc = roc_auc_score(test_data[target], predictions)\n",
    "    metrics.append({'Model': m['name'], 'Accuracy': accuracy, 'Precision': precision, 'Recall': recall, 'F1 Score': f1, 'ROC AUC Score': roc_auc})\n",
    "\n",
    "# создаем датафрейм с метриками для всех моделей\n",
    "metrics_df = pd.DataFrame(metrics)\n",
    "\n",
    "metrics_df\n"
   ]
  },
  {
   "cell_type": "markdown",
   "metadata": {},
   "source": [
    "Это таблица, в которой перечислены метрики для каждой модели машинного обучения, которая была обучена на данных для проверки гипотезы. Каждая метрика характеризует качество предсказаний модели, при оценке точности, полноты, F1-меры и ROC-AUC-меры.\n",
    "\n",
    "Модели обучались на признаках (features) и целевой переменной (target) для проверки гипотезы о том, что на участках дорог с установленными знаками ограничения скорости и работающими камерами фото- и видеофиксации регистрируется меньшее число ДТП, чем на участках дорог только с знаками ограничения скорости."
   ]
  },
  {
   "cell_type": "markdown",
   "metadata": {},
   "source": [
    "Вывод: Метрики, полученные для моделей машинного обучения, могут помочь в проверке гипотезы, но они не являются единственным индикатором ее подтверждения или опровержения.\n",
    "Однако, если рассмотреть метрики, полученные для моделей, можно сделать следующие выводы:\n",
    "\n",
    "- Модели DecisionTreeClassifier и CatBoostClassifier показали показатель recall = 1.0, что означает, что они правильно определяют все положительные случаи. Это может свидетельствовать о том, что на участках дорог, оборудованных и знаком ограничения скорости, и знаком о работе камер фото- и видеофиксации, регистрируется меньшее число ДТП.\n",
    "\n",
    "- Однако, в то же время, значение ROC AUC Score у моделей DecisionTreeClassifier и CatBoostClassifier равно 0.5, что может свидетельствовать о том, что модели не могут отличить между собой положительные и отрицательные классы. Таким образом, метрики не дают однозначного ответа на вопрос о подтверждении или опровержении гипотезы.\n",
    "\n",
    "- Другие модели, такие как RandomForestClassifier и LogisticRegression, показали низкие значения метрик, таких как recall, precision, и F1 Score, что может свидетельствовать о том, что они плохо определяют положительные случаи, т.е. на участках автомобильных дорог, оборудованных и знаком ограничения скорости, и знаком о работе камер фото- и видеофиксации, регистрируется меньшее число ДТП.\n",
    "\n",
    "Таким образом, метрики показывают, что гипотеза может быть верна, учитывая показатели на t-тесте"
   ]
  }
 ],
 "metadata": {
  "colab": {
   "collapsed_sections": [
    "CHcGPDFMFJem",
    "6sHO4T4vFREA",
    "lbsQyiaMW9MN",
    "WhBC2X9M0310",
    "ll9TCs4z1CvE",
    "2WH-3eWT1MeU"
   ],
   "provenance": []
  },
  "kernelspec": {
   "display_name": "Python 3 (ipykernel)",
   "language": "python",
   "name": "python3"
  },
  "language_info": {
   "codemirror_mode": {
    "name": "ipython",
    "version": 3
   },
   "file_extension": ".py",
   "mimetype": "text/x-python",
   "name": "python",
   "nbconvert_exporter": "python",
   "pygments_lexer": "ipython3",
   "version": "3.10.9"
  }
 },
 "nbformat": 4,
 "nbformat_minor": 4
}
